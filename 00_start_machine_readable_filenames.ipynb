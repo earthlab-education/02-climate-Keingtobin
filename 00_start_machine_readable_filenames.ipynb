{
 "cells": [
  {
   "cell_type": "markdown",
   "id": "886d9743-4b6f-4d08-8c20-125bb2746918",
   "metadata": {},
   "source": [
    "# Climate coding challenge, Part 0\n",
    "\n",
    "## Human-readable and Machine-readable\n",
    "\n",
    "When writing open, reproducible scientific workflows, it is always\n",
    "important to make sure that:\n",
    "\n",
    "1.  all collaborators can understand what’s going on\n",
    "2.  any commands you give to a computer are clear and unambiguous\n",
    "\n",
    "We call these two (sometimes competing) goals **human-readability** and\n",
    "**machine-readability**.\n",
    "\n",
    "> **Further reading**\n",
    ">\n",
    "> Read [our textbook chapter about organizing open reproducible science\n",
    "> projects](https://www.earthdatascience.org/courses/intro-to-earth-data-science/open-reproducible-science/get-started-open-reproducible-science/best-practices-for-organizing-open-reproducible-science/)."
   ]
  },
  {
   "cell_type": "markdown",
   "id": "2ca9ebde-997a-449d-88e0-5455d190408f",
   "metadata": {},
   "source": [
    "> **Human-readable and Machine-readable**\n",
    ">\n",
    "> 1. Create a new Markdown cell below this one using the\n",
    ">     <kbd>ESC</kbd> + <kbd>b</kbd> keyboard shortcut.\n",
    "> 2. In the new cell, answer the following question in a Markdown\n",
    ">     **quote**: Does this Jupyter Notebook file have a machine-readable\n",
    ">     name? Explain your answer."
   ]
  },
  {
   "cell_type": "markdown",
   "id": "261bc0b2-e509-4258-8b23-c27e26d337ba",
   "metadata": {},
   "source": [
    "Before editing this file, it does not have a machine-readable name. The main reason it doesn't is because of the spaces in the name, that can cause errors. It also doens't follow good case conventions. Instead of sticking with that, I am going to change the name and use the convention of underscores for spaces and all lowercase."
   ]
  },
  {
   "cell_type": "markdown",
   "id": "09d076a4-e009-495c-a284-bc8760e7ac78",
   "metadata": {},
   "source": [
    "> **Your task: Machine-readable file names**\n",
    ">\n",
    "> Rename any notebooks in this folder with an **expressive and\n",
    "> machine-readable file name**"
   ]
  }
 ],
 "metadata": {
  "kernelspec": {
   "display_name": "Python 3 (ipykernel)",
   "language": "python",
   "name": "python3"
  },
  "language_info": {
   "codemirror_mode": {
    "name": "ipython",
    "version": 3
   },
   "file_extension": ".py",
   "mimetype": "text/x-python",
   "name": "python",
   "nbconvert_exporter": "python",
   "pygments_lexer": "ipython3",
   "version": "3.13.7"
  }
 },
 "nbformat": 4,
 "nbformat_minor": 5
}
