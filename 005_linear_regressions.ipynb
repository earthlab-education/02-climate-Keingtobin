{
 "cells": [
  {
   "cell_type": "markdown",
   "id": "c7ccefea-9ed9-4011-ab50-3d846331eb87",
   "metadata": {},
   "source": [
    "# Climate Coding Challenge\n",
    "\n",
    "Climate change is impacting the way people live around the world\n",
    "\n",
    "# So, is the climate changing?\n",
    "\n",
    "## STEP 0: Set up\n",
    "\n",
    "To get started on this notebook, you’ll need to restore any variables\n",
    "from previous notebooks to your workspace. To save time and memory, make\n",
    "sure to specify which variables you want to load."
   ]
  },
  {
   "cell_type": "code",
   "execution_count": 1,
   "id": "4d990e2d",
   "metadata": {},
   "outputs": [],
   "source": [
    "%store -r boulder_annual_temps"
   ]
  },
  {
   "cell_type": "markdown",
   "id": "da0a2c1e-32b8-4762-b080-3027117f2e6b",
   "metadata": {},
   "source": [
    "## STEP 1: Quantify how fast the climate is changing with a trend line\n",
    "\n",
    "Global climate change causes different effects in different places when\n",
    "we zoom in to a local area. However, you probably noticed when you\n",
    "looked at mean annual temperatures over time that they were rising. We\n",
    "can use a technique called **Linear Ordinary Least Squares (OLS)\n",
    "Regression** to determine how quickly temperatures are rising on\n",
    "average.\n",
    "\n",
    "Before we get started, it’s important to consider that OLS regression is\n",
    "not always the right technique, because it makes some important\n",
    "assumptions about our data:\n",
    "\n",
    "Random error  \n",
    "Variation in temperature can be caused by many things beyond global\n",
    "climate change. For example, temperatures often vary with patterns of\n",
    "ocean surface temperatures (*teleconnections*), the most famous of which\n",
    "are El Niño and La Niña. By using a linear OLS regression, we’re\n",
    "assuming that all the variation in temperature except for climate change\n",
    "is random.\n",
    "\n",
    "Normally distributed error  \n",
    "If you have taken a statistics class, you probably learned a lot about\n",
    "the normal, or Gaussian distribution. For right now, what you need to\n",
    "know is that OLS regression is useful for identifying trends in average\n",
    "temperature, but wouldn’t be appropriate for looking at trends in daily\n",
    "precipitation (because most days have zero precipitation), or at maximum\n",
    "or minimum annual temperatures (because these are extreme values, and\n",
    "the normal distribution tends to underestimate the likelihood of large\n",
    "events).\n",
    "\n",
    "Linearity  \n",
    "We’re assuming that temperatures are increasing or decreasing at a\n",
    "constant rate over time. We wouldn’t be able to look at rates that\n",
    "change over time. For example, many locations in the Arctic remained the\n",
    "same temperature for much longer than the rest of the world, because ice\n",
    "melt was absorbing all the extra heat. Linear OLS regression wouldn’t be\n",
    "able to identify when the temperature rise began on its own.\n",
    "\n",
    "Stationarity  \n",
    "We’re assuming that variation in temperature caused by things *other*\n",
    "than global climate change (e.g. the random error) behaves the same over\n",
    "time. For example, the linear OLS regression can’t take increased\n",
    "variability from year to year into account, which is a common effect of\n",
    "climate change. We often see “global weirding”, or more extreme head\n",
    "*and* cold, in addition to overall increases. You can observe this most\n",
    "easily by looking at your daily data again. Does it seem to be fanning\n",
    "in or out over time?\n",
    "\n",
    "It’s pretty rare to encounter a perfect statistical model where all the\n",
    "assumptions are met, but you want to be on the lookout for serious\n",
    "discrepancies, especially when making predictions. For example,\n",
    "[ignoring assumptions about Gaussian error arguably led to the 2008\n",
    "financial crash](https://www.wired.com/2009/02/wp-quant/)."
   ]
  },
  {
   "cell_type": "markdown",
   "id": "66aaae8f-1b0a-481e-a56e-8201441ff3ea",
   "metadata": {},
   "source": [
    "<link rel=\"stylesheet\" type=\"text/css\" href=\"./assets/styles.css\"><div class=\"callout callout-style-default callout-titled callout-respond\"><div class=\"callout-header\"><div class=\"callout-icon-container\"><i class=\"callout-icon\"></i></div><div class=\"callout-title-container flex-fill\">Reflect and Respond: Is linear OLS regression right for your data?</div></div><div class=\"callout-body-container callout-body\"><p>Take a look at your data. In the cell below, write a few sentences\n",
    "about ways your data does and does not meet the linear OLS regression\n",
    "assumptions.</p></div></div>"
   ]
  },
  {
   "cell_type": "markdown",
   "id": "09030350-6c9c-4138-9e7c-3c5cfc33e1ee",
   "metadata": {},
   "source": [
    "## Response: \n",
    "It seems that liner OLS regression might not be the perfect fit for our data, but it is a good fit for our data. We are ignoring the assumptions of random error and stationarity. The average annual temperature is going to vary because of other things outside of climate change, and not all of these things are random. The variation in temperature is also caused by things other than global climate change, and these things may not be behaving the same over time.\n",
    "\n",
    "However, our data does fit the assumptions of normally distributed error and linearity. It fits normally distributed error because we are looking at average trends over long periods of time. It also fits linearity because it seems the temperatures are rising at a constant linear rate (at least for now)."
   ]
  },
  {
   "cell_type": "markdown",
   "id": "ee3db170-c886-4ee0-ba96-4003f3b6e791",
   "metadata": {},
   "source": [
    "<link rel=\"stylesheet\" type=\"text/css\" href=\"./assets/styles.css\"><div class=\"callout callout-style-default callout-titled callout-task\"><div class=\"callout-header\"><div class=\"callout-icon-container\"><i class=\"callout-icon\"></i></div><div class=\"callout-title-container flex-fill\">Try It: Import Packages</div></div><div class=\"callout-body-container callout-body\"><p>The following cell contains package imports that you will need to\n",
    "calculate and plot an OLS Linear trend line. Make sure to run the cell\n",
    "before moving on, and if you have any additional packages you would like\n",
    "to use, add them here later on.</p></div></div>"
   ]
  },
  {
   "cell_type": "code",
   "execution_count": 2,
   "id": "49bc5aef",
   "metadata": {},
   "outputs": [],
   "source": [
    "# Advanced options on matplotlib/seaborn/pandas plots\n",
    "import matplotlib.pyplot as plt\n",
    "# Common statistical plots for tabular data\n",
    "import seaborn as sns\n",
    "# Fit an OLS linear regression\n",
    "from sklearn.linear_model import LinearRegression\n",
    "# Importing pandas for datetime conversion funcitonality\n",
    "import pandas as pd"
   ]
  },
  {
   "cell_type": "markdown",
   "id": "4683080d-ca0d-4641-8cbd-0f5fbd0bcf75",
   "metadata": {},
   "source": [
    "<link rel=\"stylesheet\" type=\"text/css\" href=\"./assets/styles.css\"><div class=\"callout callout-style-default callout-titled callout-task\"><div class=\"callout-header\"><div class=\"callout-icon-container\"><i class=\"callout-icon\"></i></div><div class=\"callout-title-container flex-fill\">Try It: Regression</div></div><div class=\"callout-body-container callout-body\"><ol type=\"1\">\n",
    "<li>To get sample code, ask ChatGPT how to fit a linear model to your\n",
    "data. If you’re new to using large language models, go ahead and check\n",
    "out <a\n",
    "href=\"https://chatgpt.com/share/649b897b-9075-457e-8e12-308f795312a1\">our\n",
    "query</a></li>\n",
    "<li>Copy code that uses the <code>scikit-learn</code> package to perform\n",
    "a OLS linear regression to the code cell below.</li>\n",
    "<li>Check out your previous plot. Does it make sense to include all the\n",
    "data when calculating a trend line? Be sure to select out data that\n",
    "meets the OLS assumptions.</li>\n",
    "</ol></div></div>\n",
    "\n",
    "> **Note**\n",
    ">\n",
    "> We know that some computers, networks, and countries block LLM (large\n",
    "> language model) sites, and that LLMs can sometimes perpetuate\n",
    "> oppressive or offensive language and ideas. However, LLMs are\n",
    "> increasingly standard tools for programming – [according to\n",
    "> GitHub](https://github.com/features/copilot) many developers code 55%\n",
    "> faster with LLM assistance. We also see in our classes that LLMs give\n",
    "> students the ability to work on complex real-world problems earlier\n",
    "> on. We feel it’s worth the trade-off, and at this point we would be\n",
    "> doing you a disservice professionally to teach you to code without\n",
    "> LLMs. If you can’t access them, don’t worry – we’ll present a variety\n",
    "> of options for finding example code. For example, you can also search\n",
    "> for an example on a site like\n",
    "> [StackOverflow](https://stackoverflow.com/) (this is how we all\n",
    "> learned to code, and with the right question it’s a fantastic resource\n",
    "> for any coder to get access to up-to-date information from world\n",
    "> experts quickly). You can also use our solutions as a starting point."
   ]
  },
  {
   "cell_type": "code",
   "execution_count": 3,
   "id": "97e0cfbd",
   "metadata": {
    "template": "student"
   },
   "outputs": [
    {
     "name": "stdout",
     "output_type": "stream",
     "text": [
      "Slope: [1.03212141e-18]\n",
      "Intercept: [54.7869134]\n"
     ]
    }
   ],
   "source": [
    "# Fit an OLS Linear Regression to the data\n",
    "boulder_annual_temps = boulder_annual_temps.reset_index()\n",
    "\n",
    "# Clean the data of all the 'NaN' values\n",
    "boulder_annual_temps_clean = boulder_annual_temps.dropna()\n",
    "\n",
    "# Fit the columns to arrays for scikit-learn\n",
    "X = boulder_annual_temps_clean[['DATE']].values\n",
    "Y = boulder_annual_temps_clean[['temp_f']].values\n",
    "\n",
    "# Create and fit linear regression model\n",
    "model = LinearRegression()\n",
    "model.fit(X,Y)\n",
    "\n",
    "# Get slope and intercept\n",
    "slope = model.coef_[0]\n",
    "intercept = model.intercept_\n",
    "print(f'Slope: {slope}')\n",
    "print(f'Intercept: {intercept}')"
   ]
  },
  {
   "cell_type": "markdown",
   "id": "d9c88aae-f391-48f4-aeb6-d8a5034c3423",
   "metadata": {},
   "source": [
    "## STEP 2: Plot your trend line\n",
    "\n",
    "Trend lines are often used to help your audience understand and process\n",
    "a time-series plot. In this case, we’ve chosed mean temperature values\n",
    "rather than extremes, so we think OLS is an appropriate model to use to\n",
    "show a trend.\n",
    "\n",
    "> **Is it ok to plot a trend line even if OLS isn’t an appropriate\n",
    "> model?**\n",
    ">\n",
    "> This is a tricky issue. When it comes to a trend line, choosing a\n",
    "> model that is technically more appropriate may require much more\n",
    "> complex code without resulting in a noticeably different trend line.\n",
    ">\n",
    "> We think an OLS trend line is an ok visual tool to indicate the\n",
    "> approximate direction and size of a trend. If you are showing standard\n",
    "> error, making predictions or inferences based on your model, or\n",
    "> calculating probabilities (p-values) based on your model, or making\n",
    "> statements about the statistical significance of a trend, we’d suggest\n",
    "> reconsidering your choice of model.\n",
    "\n",
    "<link rel=\"stylesheet\" type=\"text/css\" href=\"./assets/styles.css\"><div class=\"callout callout-style-default callout-titled callout-task\"><div class=\"callout-header\"><div class=\"callout-icon-container\"><i class=\"callout-icon\"></i></div><div class=\"callout-title-container flex-fill\">Try It: Regression Plot</div></div><div class=\"callout-body-container callout-body\"><ol type=\"1\">\n",
    "<li>Add values for x (year) and y (temperature) to plot a regression\n",
    "plot. You will have to select out the year from the index values, just\n",
    "like you probably did when fitting your linear model above!</li>\n",
    "<li>Label the axes of your plot with the <code>title</code>,\n",
    "<code>xlabel</code>, and <code>ylabel</code> parameters. We’ve gotten\n",
    "you started with an example that shows how to put in the degree symbol.\n",
    "Make sure your labels match what you’re plotting!</li>\n",
    "<li>Can you figure out how to customize the colors and line style on\n",
    "your plot? Check out the <a\n",
    "href=\"https://seaborn.pydata.org\"><code>seaborn</code> documentation</a>\n",
    "for ideas.</li>\n",
    "</ol></div></div>"
   ]
  },
  {
   "cell_type": "code",
   "execution_count": 4,
   "id": "fc05f002-8717-48fb-ae52-9f4e09a2330c",
   "metadata": {},
   "outputs": [
    {
     "name": "stdout",
     "output_type": "stream",
     "text": [
      "DATE      datetime64[ns]\n",
      "temp_f           float64\n",
      "temp_c           float64\n",
      "dtype: object\n"
     ]
    }
   ],
   "source": [
    "print(boulder_annual_temps.dtypes)"
   ]
  },
  {
   "cell_type": "code",
   "execution_count": 5,
   "id": "7c69e074",
   "metadata": {
    "template": "student"
   },
   "outputs": [
    {
     "data": {
      "image/png": "[encoded data removed]",
      "text/plain": [
       "<Figure size 640x480 with 1 Axes>"
      ]
     },
     "metadata": {},
     "output_type": "display_data"
    }
   ],
   "source": [
    "# In order to use seaborn plot, I have to convert the datetime objects into integers\n",
    "boulder_annual_temps['DATE'] = pd.to_datetime(boulder_annual_temps['DATE']).dt.year\n",
    "\n",
    "# Plot annual average temperature with a trend line\n",
    "ax = sns.regplot(\n",
    "    x=boulder_annual_temps[['DATE']], \n",
    "    y=boulder_annual_temps[['temp_f']],\n",
    ")\n",
    "# Set plot labels\n",
    "ax.set(\n",
    "    title='Linear Regression Plot of Boulder Average Annual Temperatures',\n",
    "    xlabel='Year',\n",
    "    ylabel='Temperature ($^\\circ$F)'\n",
    ")\n",
    "# Display the plot without extra text\n",
    "plt.show()"
   ]
  },
  {
   "cell_type": "markdown",
   "id": "a9dd04fd-98bd-4533-ab8f-f8bb40a92e8d",
   "metadata": {},
   "source": [
    "<link rel=\"stylesheet\" type=\"text/css\" href=\"./assets/styles.css\"><div class=\"callout callout-style-default callout-titled callout-respond\"><div class=\"callout-header\"><div class=\"callout-icon-container\"><i class=\"callout-icon\"></i></div><div class=\"callout-title-container flex-fill\">Reflect and Respond: Interpret the trend</div></div><div class=\"callout-body-container callout-body\"><ol type=\"1\">\n",
    "<li>Create a new Markdown cell below this one.</li>\n",
    "<li>Write a plot headline. Your headline should\n",
    "<strong>interpret</strong> your plot, unlike a caption which neutrally\n",
    "describes the image.</li>\n",
    "<li>Is the climate changing? How much? Report the slope of your trend\n",
    "line.</li>\n",
    "</ol></div></div>"
   ]
  },
  {
   "cell_type": "markdown",
   "id": "a7b0b50d-c6a8-4971-a5da-1d3414fb724a",
   "metadata": {},
   "source": [
    "# Average Annual Temperatures Are Increasing Over Time in Boulder, CO\n",
    "\n",
    "According to the data I have plotted here, the average annual temperature in Boulder, CO is increasing over time. This shows that the climate is changing. The slope of this OLS Regression line is $1.03^{-18}$, which correlates to a very small increase in temperature each year. \n",
    "\n",
    "*Note:* An OLS Regression may not be the best tool to analyze this data. We are ignoring some critical assumptions related to OLS Regression models, so take this data with a grain of salt."
   ]
  }
 ],
 "metadata": {
  "kernelspec": {
   "display_name": "Python 3 (ipykernel)",
   "language": "python",
   "name": "python3"
  },
  "language_info": {
   "codemirror_mode": {
    "name": "ipython",
    "version": 3
   },
   "file_extension": ".py",
   "mimetype": "text/x-python",
   "name": "python",
   "nbconvert_exporter": "python",
   "pygments_lexer": "ipython3",
   "version": "3.11.13"
  }
 },
 "nbformat": 4,
 "nbformat_minor": 5
}
